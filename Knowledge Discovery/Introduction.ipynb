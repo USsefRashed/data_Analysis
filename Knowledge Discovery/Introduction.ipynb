{
 "cells": [
  {
   "attachments": {},
   "cell_type": "markdown",
   "metadata": {},
   "source": [
    "# Knowledge Discovery\n",
    "\n",
    "### what are `data`, `information` and `Knowledge` ?\n",
    "- Data \n",
    "  - is considered raw facts\n",
    "- Information\n",
    "  - the processes that we do on the data to get information\n",
    "- Knowledge\n",
    "  - the dependence on data,information,studies and experiements to get information\n",
    "\n",
    "---"
   ]
  },
  {
   "attachments": {},
   "cell_type": "markdown",
   "metadata": {},
   "source": [
    "### Data Mining (Knowledge discovery from data base) : \n",
    "is the Extraction of the `inetersting`\n",
    "- non-trivial\n",
    "- implicit\n",
    "- previously unknown\n",
    "- potentially useful\n",
    " knowkledge or pattern from the huge amount of data"
   ]
  },
  {
   "attachments": {},
   "cell_type": "markdown",
   "metadata": {},
   "source": [
    "---"
   ]
  },
  {
   "attachments": {},
   "cell_type": "markdown",
   "metadata": {},
   "source": [
    "### `Patterns` : is defined as the rows that have the same values in 2 or more columns"
   ]
  },
  {
   "attachments": {},
   "cell_type": "markdown",
   "metadata": {},
   "source": [
    "---"
   ]
  },
  {
   "attachments": {},
   "cell_type": "markdown",
   "metadata": {},
   "source": [
    "\n",
    "\n",
    "## processes of knowledge Discovery \n",
    "#### 1) Data Cleanning\n",
    "\n",
    "```\n",
    "Get rid of : \n",
    "- Incomplete Data : \n",
    "\n",
    "    when there are no values for object attribute \n",
    "    EX : Age =\"\"\n",
    "\n",
    "- Noise : \n",
    "\n",
    "    Unwanted value like \n",
    "    Age = -50\n",
    "\n",
    "- inconsistent : \n",
    "\n",
    "    existance of 2 columns gives me the same result like : \n",
    "    Age = 23\n",
    "    Birthday = \"12-1-2000\"\n",
    "```\n",
    "---\n",
    "#### 2) Data Integration\n",
    "```\n",
    "where multiple data sources may be combined into a single data format\n",
    "```\n",
    "---\n",
    "#### 3) Data Selection\n",
    "```\n",
    "collecting only necessary information from the model\n",
    "```\n",
    "---\n",
    "\n",
    "#### 4) Data Transformation\n",
    "```\n",
    "Data are transformed and consolidated into forms appropriate for minig \n",
    "by perfoming summary or aggregation operation\n",
    "```\n",
    "---\n",
    "\n",
    "#### 5) Data Mining\n",
    "```\n",
    "Essential process where intelligent methods are applied on data ot extract \n",
    "Data pattern \n",
    "```\n",
    "---\n",
    "\n",
    "#### 6) Pattern Evaluation\n",
    "```\n",
    "To idemtify the truly interesting patterns represinting knowledge\n",
    "based on interesting measure\n",
    "```\n",
    "---\n",
    "#### 7) Knowledge Presentation\n",
    "```\n",
    "Visualization and knowledge representation techniqniques are \n",
    "used to present mined knowledge to users\n",
    "Visualizations can be in form of graphs charts or table\n",
    "```\n",
    "---\n",
    "\n"
   ]
  },
  {
   "attachments": {},
   "cell_type": "markdown",
   "metadata": {},
   "source": [
    "Data mining functionalities specify the type of the petterns to be found in data mining tasks\n",
    "\n",
    "\n",
    "In general Data mining tasks can be classified into 2 main categories : \n",
    "\n",
    "\n",
    "1) Predivtive\n",
    "   - Tasks that performs inference on the current data to make decision\n",
    "   - EX : `Classification` & `Regression`\n",
    "\n",
    "2) Descriptive \n",
    "   - Task that charactarize the general properties of the data in the database\n",
    "   - EX : `Clustering` & `Association Rule Mining` "
   ]
  },
  {
   "attachments": {},
   "cell_type": "markdown",
   "metadata": {},
   "source": [
    "### Classification VS Regression\n",
    "\n",
    "- Classification\n",
    "\n",
    "\n",
    "used to predict or classify `Discrete` values like `True or False`\n",
    "- Regression\n",
    "\n",
    "\n",
    "used to predict `Continous` vlaues like `Price` or `salary`\n"
   ]
  },
  {
   "attachments": {},
   "cell_type": "markdown",
   "metadata": {},
   "source": [
    "### Clustering VS Association\n",
    "\n",
    "- Clustering\n",
    "\n",
    "    Is a method of grouping the objects into clusters such that objects with the most similarities on the attributes is remain in the group and others with less similarities stay in another one \n",
    "\n",
    "- Association\n",
    "\n",
    "\n",
    "    used to find relationships between variables in large databases.\n",
    "\n",
    "\n",
    "    it determines the set of items that occurs together in the database.\n",
    "    \n",
    "    \n",
    "    Most  use of it in `marketing stratigies`"
   ]
  }
 ],
 "metadata": {
  "language_info": {
   "name": "python"
  },
  "orig_nbformat": 4
 },
 "nbformat": 4,
 "nbformat_minor": 2
}
