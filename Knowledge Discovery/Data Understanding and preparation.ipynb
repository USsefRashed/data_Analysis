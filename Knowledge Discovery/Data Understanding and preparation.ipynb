{
 "cells": [
  {
   "attachments": {},
   "cell_type": "markdown",
   "metadata": {},
   "source": [
    "# Data Understanding and preparation"
   ]
  },
  {
   "attachments": {},
   "cell_type": "markdown",
   "metadata": {},
   "source": [
    "Before Diving Deeply in data analysis \"Mining\",we need better understanding of available data\n",
    "\n",
    "With any software system, understanding what the inputs and\n",
    "outputs are is far more important than knowing what goes on in\n",
    "between"
   ]
  },
  {
   "attachments": {},
   "cell_type": "markdown",
   "metadata": {},
   "source": [
    "## Datasets\n",
    "are made up of data objects\n",
    "Data object represinets as `Entity`\n",
    "Data objects are described by data attributes\n",
    "\n",
    "- `Row` => Data object\n",
    "- `Columns` => Attributes\n",
    "\n"
   ]
  },
  {
   "attachments": {},
   "cell_type": "markdown",
   "metadata": {},
   "source": [
    "### Attributes Types \n",
    "1) Nominal\n",
    "\n",
    "    Categories, states or  name of things\n",
    "\n",
    "2) Binary\n",
    "\n",
    "    is `nominal` attribute with values 0 and 1\n",
    "    - `Symetric binary` : own outcomes equally important Like Gender \n",
    "    - Asymetric Binary : outcomes not equally important like medical Test (Positive or Negative)\n",
    "\n",
    "3) Ordinal\n",
    "\n",
    "    Values that have meaningful order but the magnitude of success is not known\n",
    "    EX `Size={\"tiny\",\"small\",\"Medium\",\"Large\"}`\n",
    "\n",
    "4) Numeric\n",
    "\n",
    "    The attribute's values are usually represented by numeric values and it can\n",
    "    be classified as: \n",
    "    - Quantitative\n",
    "      \n",
    "      - the values represent a quantity like weight, salry\n",
    "    - Interval-Scaled\n",
    "      \n",
    "      - Measured on a scale of equal-sized units\n",
    "      - Values have order \n",
    "      - like Temperature in Celsius or calendar dates\n",
    "    \n",
    "    - Ratio-Scaled\n",
    "      - iheritzero-point\n",
    "      - We can speak of values as being an order of magnitude larger than the unit of measurement (10 K. is twice as high as S IC)."
   ]
  },
  {
   "attachments": {},
   "cell_type": "markdown",
   "metadata": {},
   "source": [
    "# Data preparation\n",
    "\n",
    "the process of getting the data from its raw format into something suitable and more convenient to be analyzed\n",
    "\n",
    " This typically means creating a software pipeline that gets the data out of wherever it is stored, does any cleaning or filtering necessary, and puts it into a regular format.\n",
    "\n",
    "\n",
    " Data Preparation is the main area where data scientists need skills that a traditional statistician or analyst doesn't have."
   ]
  },
  {
   "attachments": {},
   "cell_type": "markdown",
   "metadata": {},
   "source": [
    "## How to handle missed Data\n",
    "\n",
    "We have 2 solutions to handle missing data\n",
    "\n",
    "1) Ignore this tuple\n",
    "   - Usually we done when the class label is missing,within a classification tasks\n",
    "   - or this row is Not Effective\n",
    "2) Fill missing values (autmatically or manually)"
   ]
  },
  {
   "attachments": {},
   "cell_type": "markdown",
   "metadata": {},
   "source": [
    "## How to handle Noisy Data\n",
    "\n",
    "1) Binning\n",
    "   - Sort Data and partition into equal frequent or equal depth bins\n",
    "   - then one can smooth by bin mean, median, boundaries\n",
    "2) Regression\n",
    "   - smooth by fitting the data into regression function\n",
    "\n",
    "4) Clustering\n",
    "   - Detect and remove outliers \n",
    "5) Compined Computer and human inspection\n",
    "   - detect suspicious values and check by human"
   ]
  },

 ],

  "orig_nbformat": 4
 },
 "nbformat": 4,
 "nbformat_minor": 2
}
