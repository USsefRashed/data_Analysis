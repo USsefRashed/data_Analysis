{
 "cells": [
  {
   "attachments": {},
   "cell_type": "markdown",
   "metadata": {},
   "source": [
    "# Updating rows and columns"
   ]
  },
  {
   "attachments": {},
   "cell_type": "markdown",
   "metadata": {},
   "source": [
    "## 1) Updating dataset's columns"
   ]
  },
  {
   "cell_type": "code",
   "execution_count": 6,
   "metadata": {},
   "outputs": [
    {
     "data": {
      "text/plain": [
       "Index(['first', 'last', 'email', 'salary'], dtype='object')"
      ]
     },
     "execution_count": 6,
     "metadata": {},
     "output_type": "execute_result"
    }
   ],
   "source": [
    "import pandas as pd\n",
    "\n",
    "people={\n",
    "    \"first\":[\"Ali\",\"Sami\",\"Waleed\",\"Sameh\"],\n",
    "    \"last\":[\"Magdy\",\"Marwan\",\"Mansour\",\"Ahmed\"],\n",
    "    \"email\":[\"ali@magdy.com\",\"sami@Marwan.com\",\"waleed@mansour.com\",\"sameh@ahmed.com\"],\n",
    "    \"salary\":[2000,1500,900,1200]\n",
    "}\n",
    "\n",
    "p_df=pd.DataFrame(people)\n",
    "p_df.columns\n"
   ]
  },
  {
   "attachments": {},
   "cell_type": "markdown",
   "metadata": {},
   "source": [
    "To Rename the columns you can assign them to the columns attribute of your data frame"
   ]
  },
  {
   "cell_type": "code",
   "execution_count": 9,
   "metadata": {},
   "outputs": [
    {
     "data": {
      "text/html": [
       "<div>\n",
       "<style scoped>\n",
       "    .dataframe tbody tr th:only-of-type {\n",
       "        vertical-align: middle;\n",
       "    }\n",
       "\n",
       "    .dataframe tbody tr th {\n",
       "        vertical-align: top;\n",
       "    }\n",
       "\n",
       "    .dataframe thead th {\n",
       "        text-align: right;\n",
       "    }\n",
       "</style>\n",
       "<table border=\"1\" class=\"dataframe\">\n",
       "  <thead>\n",
       "    <tr style=\"text-align: right;\">\n",
       "      <th></th>\n",
       "      <th>first name</th>\n",
       "      <th>last name</th>\n",
       "      <th>email</th>\n",
       "      <th>salary</th>\n",
       "    </tr>\n",
       "  </thead>\n",
       "  <tbody>\n",
       "    <tr>\n",
       "      <th>0</th>\n",
       "      <td>Ali</td>\n",
       "      <td>Magdy</td>\n",
       "      <td>ali@magdy.com</td>\n",
       "      <td>2000</td>\n",
       "    </tr>\n",
       "    <tr>\n",
       "      <th>1</th>\n",
       "      <td>Sami</td>\n",
       "      <td>Marwan</td>\n",
       "      <td>sami@Marwan.com</td>\n",
       "      <td>1500</td>\n",
       "    </tr>\n",
       "    <tr>\n",
       "      <th>2</th>\n",
       "      <td>Waleed</td>\n",
       "      <td>Mansour</td>\n",
       "      <td>waleed@mansour.com</td>\n",
       "      <td>900</td>\n",
       "    </tr>\n",
       "    <tr>\n",
       "      <th>3</th>\n",
       "      <td>Sameh</td>\n",
       "      <td>Ahmed</td>\n",
       "      <td>sameh@ahmed.com</td>\n",
       "      <td>1200</td>\n",
       "    </tr>\n",
       "  </tbody>\n",
       "</table>\n",
       "</div>"
      ],
      "text/plain": [
       "  first name last name               email  salary\n",
       "0        Ali     Magdy       ali@magdy.com    2000\n",
       "1       Sami    Marwan     sami@Marwan.com    1500\n",
       "2     Waleed   Mansour  waleed@mansour.com     900\n",
       "3      Sameh     Ahmed     sameh@ahmed.com    1200"
      ]
     },
     "execution_count": 9,
     "metadata": {},
     "output_type": "execute_result"
    }
   ],
   "source": [
    "p_df.columns=['first name','last name','email','salary']\n",
    "\n",
    "p_df.columns\n",
    "p_df"
   ]
  },
  {
   "attachments": {},
   "cell_type": "markdown",
   "metadata": {},
   "source": [
    "it works but if I use the dot way to access a column which contins white spaces it won't work correctly\n",
    "\n",
    "```python\n",
    "p_df.first name\n",
    "# it will give me a syntax error \n",
    "```\n",
    "\n",
    " so the solution that  I will replace these white space with underscore  `_` \n"
   ]
  },
  {
   "cell_type": "code",
   "execution_count": 12,
   "metadata": {},
   "outputs": [
    {
     "data": {
      "text/html": [
       "<div>\n",
       "<style scoped>\n",
       "    .dataframe tbody tr th:only-of-type {\n",
       "        vertical-align: middle;\n",
       "    }\n",
       "\n",
       "    .dataframe tbody tr th {\n",
       "        vertical-align: top;\n",
       "    }\n",
       "\n",
       "    .dataframe thead th {\n",
       "        text-align: right;\n",
       "    }\n",
       "</style>\n",
       "<table border=\"1\" class=\"dataframe\">\n",
       "  <thead>\n",
       "    <tr style=\"text-align: right;\">\n",
       "      <th></th>\n",
       "      <th>first_name</th>\n",
       "      <th>last_name</th>\n",
       "      <th>email</th>\n",
       "      <th>salary</th>\n",
       "    </tr>\n",
       "  </thead>\n",
       "  <tbody>\n",
       "    <tr>\n",
       "      <th>0</th>\n",
       "      <td>Ali</td>\n",
       "      <td>Magdy</td>\n",
       "      <td>ali@magdy.com</td>\n",
       "      <td>2000</td>\n",
       "    </tr>\n",
       "    <tr>\n",
       "      <th>1</th>\n",
       "      <td>Sami</td>\n",
       "      <td>Marwan</td>\n",
       "      <td>sami@Marwan.com</td>\n",
       "      <td>1500</td>\n",
       "    </tr>\n",
       "    <tr>\n",
       "      <th>2</th>\n",
       "      <td>Waleed</td>\n",
       "      <td>Mansour</td>\n",
       "      <td>waleed@mansour.com</td>\n",
       "      <td>900</td>\n",
       "    </tr>\n",
       "    <tr>\n",
       "      <th>3</th>\n",
       "      <td>Sameh</td>\n",
       "      <td>Ahmed</td>\n",
       "      <td>sameh@ahmed.com</td>\n",
       "      <td>1200</td>\n",
       "    </tr>\n",
       "  </tbody>\n",
       "</table>\n",
       "</div>"
      ],
      "text/plain": [
       "  first_name last_name               email  salary\n",
       "0        Ali     Magdy       ali@magdy.com    2000\n",
       "1       Sami    Marwan     sami@Marwan.com    1500\n",
       "2     Waleed   Mansour  waleed@mansour.com     900\n",
       "3      Sameh     Ahmed     sameh@ahmed.com    1200"
      ]
     },
     "execution_count": 12,
     "metadata": {},
     "output_type": "execute_result"
    }
   ],
   "source": [
    "p_df.columns=p_df.columns.str.replace(' ','_')\n",
    "p_df"
   ]
  },
  {
   "attachments": {},
   "cell_type": "markdown",
   "metadata": {},
   "source": [
    "I want to cpitalize the first character for each  column name names "
   ]
  },
  {
   "cell_type": "code",
   "execution_count": 15,
   "metadata": {},
   "outputs": [
    {
     "data": {
      "text/html": [
       "<div>\n",
       "<style scoped>\n",
       "    .dataframe tbody tr th:only-of-type {\n",
       "        vertical-align: middle;\n",
       "    }\n",
       "\n",
       "    .dataframe tbody tr th {\n",
       "        vertical-align: top;\n",
       "    }\n",
       "\n",
       "    .dataframe thead th {\n",
       "        text-align: right;\n",
       "    }\n",
       "</style>\n",
       "<table border=\"1\" class=\"dataframe\">\n",
       "  <thead>\n",
       "    <tr style=\"text-align: right;\">\n",
       "      <th></th>\n",
       "      <th>First_name</th>\n",
       "      <th>Last_name</th>\n",
       "      <th>Email</th>\n",
       "      <th>Salary</th>\n",
       "    </tr>\n",
       "  </thead>\n",
       "  <tbody>\n",
       "    <tr>\n",
       "      <th>0</th>\n",
       "      <td>Ali</td>\n",
       "      <td>Magdy</td>\n",
       "      <td>ali@magdy.com</td>\n",
       "      <td>2000</td>\n",
       "    </tr>\n",
       "    <tr>\n",
       "      <th>1</th>\n",
       "      <td>Sami</td>\n",
       "      <td>Marwan</td>\n",
       "      <td>sami@Marwan.com</td>\n",
       "      <td>1500</td>\n",
       "    </tr>\n",
       "    <tr>\n",
       "      <th>2</th>\n",
       "      <td>Waleed</td>\n",
       "      <td>Mansour</td>\n",
       "      <td>waleed@mansour.com</td>\n",
       "      <td>900</td>\n",
       "    </tr>\n",
       "    <tr>\n",
       "      <th>3</th>\n",
       "      <td>Sameh</td>\n",
       "      <td>Ahmed</td>\n",
       "      <td>sameh@ahmed.com</td>\n",
       "      <td>1200</td>\n",
       "    </tr>\n",
       "  </tbody>\n",
       "</table>\n",
       "</div>"
      ],
      "text/plain": [
       "  First_name Last_name               Email  Salary\n",
       "0        Ali     Magdy       ali@magdy.com    2000\n",
       "1       Sami    Marwan     sami@Marwan.com    1500\n",
       "2     Waleed   Mansour  waleed@mansour.com     900\n",
       "3      Sameh     Ahmed     sameh@ahmed.com    1200"
      ]
     },
     "execution_count": 15,
     "metadata": {},
     "output_type": "execute_result"
    }
   ],
   "source": [
    "p_df.columns=[x.capitalize() for x in p_df.columns]\n",
    "p_df"
   ]
  },
  {
   "attachments": {},
   "cell_type": "markdown",
   "metadata": {},
   "source": [
    "I want to restore the default of the names for a specific modified columns \n",
    "- First_name =>first\n",
    "- Last_name => last\n",
    "\n",
    "The solution is to pass the columns as a dictionary using data frame `rename()` method  : \n",
    "```python\n",
    "columns={\n",
    "    \"Current_col_name\":\"new name\"\n",
    "}\n",
    "```"
   ]
  },
  {
   "cell_type": "code",
   "execution_count": 18,
   "metadata": {},
   "outputs": [
    {
     "data": {
      "text/html": [
       "<div>\n",
       "<style scoped>\n",
       "    .dataframe tbody tr th:only-of-type {\n",
       "        vertical-align: middle;\n",
       "    }\n",
       "\n",
       "    .dataframe tbody tr th {\n",
       "        vertical-align: top;\n",
       "    }\n",
       "\n",
       "    .dataframe thead th {\n",
       "        text-align: right;\n",
       "    }\n",
       "</style>\n",
       "<table border=\"1\" class=\"dataframe\">\n",
       "  <thead>\n",
       "    <tr style=\"text-align: right;\">\n",
       "      <th></th>\n",
       "      <th>first</th>\n",
       "      <th>last</th>\n",
       "      <th>Email</th>\n",
       "      <th>Salary</th>\n",
       "    </tr>\n",
       "  </thead>\n",
       "  <tbody>\n",
       "    <tr>\n",
       "      <th>0</th>\n",
       "      <td>Ali</td>\n",
       "      <td>Magdy</td>\n",
       "      <td>ali@magdy.com</td>\n",
       "      <td>2000</td>\n",
       "    </tr>\n",
       "    <tr>\n",
       "      <th>1</th>\n",
       "      <td>Sami</td>\n",
       "      <td>Marwan</td>\n",
       "      <td>sami@Marwan.com</td>\n",
       "      <td>1500</td>\n",
       "    </tr>\n",
       "    <tr>\n",
       "      <th>2</th>\n",
       "      <td>Waleed</td>\n",
       "      <td>Mansour</td>\n",
       "      <td>waleed@mansour.com</td>\n",
       "      <td>900</td>\n",
       "    </tr>\n",
       "    <tr>\n",
       "      <th>3</th>\n",
       "      <td>Sameh</td>\n",
       "      <td>Ahmed</td>\n",
       "      <td>sameh@ahmed.com</td>\n",
       "      <td>1200</td>\n",
       "    </tr>\n",
       "  </tbody>\n",
       "</table>\n",
       "</div>"
      ],
      "text/plain": [
       "    first     last               Email  Salary\n",
       "0     Ali    Magdy       ali@magdy.com    2000\n",
       "1    Sami   Marwan     sami@Marwan.com    1500\n",
       "2  Waleed  Mansour  waleed@mansour.com     900\n",
       "3   Sameh    Ahmed     sameh@ahmed.com    1200"
      ]
     },
     "execution_count": 18,
     "metadata": {},
     "output_type": "execute_result"
    }
   ],
   "source": [
    "p_df.rename(columns={\"First_name\":\"first\",\"Last_name\":\"last\"},inplace=True)\n",
    "p_df"
   ]
  },
  {
   "attachments": {},
   "cell_type": "markdown",
   "metadata": {},
   "source": [
    "---"
   ]
  },
  {
   "attachments": {},
   "cell_type": "markdown",
   "metadata": {},
   "source": [
    "## 2) Updating data for row "
   ]
  },
  {
   "attachments": {},
   "cell_type": "markdown",
   "metadata": {},
   "source": [
    "I want to replace the last row of this people data set with these attributes\n",
    "```python\n",
    "{\n",
    "    \"first\":'x',\n",
    "    \"last\":'y',\n",
    "    \"Email\":'x@y.com',\n",
    "    \"Salary\":1000\n",
    "}\n",
    "``` \n",
    "\n",
    "To do this I can use `loc` or `iloc` and passing a filter or the index number to fetch this row's data"
   ]
  },
  {
   "cell_type": "code",
   "execution_count": 25,
   "metadata": {},
   "outputs": [
    {
     "data": {
      "text/html": [
       "<div>\n",
       "<style scoped>\n",
       "    .dataframe tbody tr th:only-of-type {\n",
       "        vertical-align: middle;\n",
       "    }\n",
       "\n",
       "    .dataframe tbody tr th {\n",
       "        vertical-align: top;\n",
       "    }\n",
       "\n",
       "    .dataframe thead th {\n",
       "        text-align: right;\n",
       "    }\n",
       "</style>\n",
       "<table border=\"1\" class=\"dataframe\">\n",
       "  <thead>\n",
       "    <tr style=\"text-align: right;\">\n",
       "      <th></th>\n",
       "      <th>first</th>\n",
       "      <th>last</th>\n",
       "      <th>Email</th>\n",
       "      <th>Salary</th>\n",
       "    </tr>\n",
       "  </thead>\n",
       "  <tbody>\n",
       "    <tr>\n",
       "      <th>0</th>\n",
       "      <td>Ali</td>\n",
       "      <td>Magdy</td>\n",
       "      <td>ali@magdy.com</td>\n",
       "      <td>2000</td>\n",
       "    </tr>\n",
       "    <tr>\n",
       "      <th>1</th>\n",
       "      <td>Sami</td>\n",
       "      <td>Marwan</td>\n",
       "      <td>sami@Marwan.com</td>\n",
       "      <td>1500</td>\n",
       "    </tr>\n",
       "    <tr>\n",
       "      <th>2</th>\n",
       "      <td>Waleed</td>\n",
       "      <td>Mansour</td>\n",
       "      <td>waleed@mansour.com</td>\n",
       "      <td>900</td>\n",
       "    </tr>\n",
       "    <tr>\n",
       "      <th>3</th>\n",
       "      <td>x</td>\n",
       "      <td>y</td>\n",
       "      <td>x@y.com</td>\n",
       "      <td>1000</td>\n",
       "    </tr>\n",
       "  </tbody>\n",
       "</table>\n",
       "</div>"
      ],
      "text/plain": [
       "    first     last               Email  Salary\n",
       "0     Ali    Magdy       ali@magdy.com    2000\n",
       "1    Sami   Marwan     sami@Marwan.com    1500\n",
       "2  Waleed  Mansour  waleed@mansour.com     900\n",
       "3       x        y             x@y.com    1000"
      ]
     },
     "execution_count": 25,
     "metadata": {},
     "output_type": "execute_result"
    }
   ],
   "source": [
    "p_df.loc[3]=['x','y','x@y.com',1000]\n",
    "p_df"
   ]
  },
  {
   "attachments": {},
   "cell_type": "markdown",
   "metadata": {},
   "source": [
    "but it will be hard every time I want to change a specific value I will pass the whole data to be assigned as you can see in the previous example \n",
    "\n",
    "what I should do if I want to increase its salary to be 2000 without change or assign values of other attributes ?\n",
    "\n",
    "```diff\n",
    "+ solution is to \n",
    "speicify the column which you want to change its value \n",
    "```"
   ]
  },
  {
   "cell_type": "code",
   "execution_count": 26,
   "metadata": {},
   "outputs": [
    {
     "data": {
      "text/html": [
       "<div>\n",
       "<style scoped>\n",
       "    .dataframe tbody tr th:only-of-type {\n",
       "        vertical-align: middle;\n",
       "    }\n",
       "\n",
       "    .dataframe tbody tr th {\n",
       "        vertical-align: top;\n",
       "    }\n",
       "\n",
       "    .dataframe thead th {\n",
       "        text-align: right;\n",
       "    }\n",
       "</style>\n",
       "<table border=\"1\" class=\"dataframe\">\n",
       "  <thead>\n",
       "    <tr style=\"text-align: right;\">\n",
       "      <th></th>\n",
       "      <th>first</th>\n",
       "      <th>last</th>\n",
       "      <th>Email</th>\n",
       "      <th>Salary</th>\n",
       "    </tr>\n",
       "  </thead>\n",
       "  <tbody>\n",
       "    <tr>\n",
       "      <th>0</th>\n",
       "      <td>Ali</td>\n",
       "      <td>Magdy</td>\n",
       "      <td>ali@magdy.com</td>\n",
       "      <td>2000</td>\n",
       "    </tr>\n",
       "    <tr>\n",
       "      <th>1</th>\n",
       "      <td>Sami</td>\n",
       "      <td>Marwan</td>\n",
       "      <td>sami@Marwan.com</td>\n",
       "      <td>1500</td>\n",
       "    </tr>\n",
       "    <tr>\n",
       "      <th>2</th>\n",
       "      <td>Waleed</td>\n",
       "      <td>Mansour</td>\n",
       "      <td>waleed@mansour.com</td>\n",
       "      <td>900</td>\n",
       "    </tr>\n",
       "    <tr>\n",
       "      <th>3</th>\n",
       "      <td>x</td>\n",
       "      <td>y</td>\n",
       "      <td>x@y.com</td>\n",
       "      <td>2000</td>\n",
       "    </tr>\n",
       "  </tbody>\n",
       "</table>\n",
       "</div>"
      ],
      "text/plain": [
       "    first     last               Email  Salary\n",
       "0     Ali    Magdy       ali@magdy.com    2000\n",
       "1    Sami   Marwan     sami@Marwan.com    1500\n",
       "2  Waleed  Mansour  waleed@mansour.com     900\n",
       "3       x        y             x@y.com    2000"
      ]
     },
     "execution_count": 26,
     "metadata": {},
     "output_type": "execute_result"
    }
   ],
   "source": [
    "p_df.loc[3,['Salary']]=[2000]\n",
    "p_df"
   ]
  },
  {
   "attachments": {},
   "cell_type": "markdown",
   "metadata": {},
   "source": [
    "---\n",
    "Common error you should be careful with it :"
   ]
  },
  {
   "cell_type": "code",
   "execution_count": 28,
   "metadata": {},
   "outputs": [
    {
     "name": "stderr",
     "output_type": "stream",
     "text": [
      "/tmp/ipykernel_8614/1458497284.py:2: SettingWithCopyWarning: \n",
      "A value is trying to be set on a copy of a slice from a DataFrame.\n",
      "Try using .loc[row_indexer,col_indexer] = value instead\n",
      "\n",
      "See the caveats in the documentation: https://pandas.pydata.org/pandas-docs/stable/user_guide/indexing.html#returning-a-view-versus-a-copy\n",
      "  p_df[fltr]['last']=\"XXXXX\"\n"
     ]
    }
   ],
   "source": [
    "fltr=p_df['Email']=='waleed@mansour.com'\n",
    "p_df[fltr]['last']=\"XXXXX\""
   ]
  },
  {
   "attachments": {},
   "cell_type": "markdown",
   "metadata": {},
   "source": [
    "As You can seet the warnning messege \n",
    "\n",
    "`A value is trying to be set on a copy of a slice from a DataFrame`\n",
    "\n",
    "because it but our changes in temp variables befor apply it to the original data frame so it can not detrmine what it should do and advice you to use `loc` as alternative"
   ]
  },
  {
   "cell_type": "code",
   "execution_count": 30,
   "metadata": {},
   "outputs": [
    {
     "data": {
      "text/html": [
       "<div>\n",
       "<style scoped>\n",
       "    .dataframe tbody tr th:only-of-type {\n",
       "        vertical-align: middle;\n",
       "    }\n",
       "\n",
       "    .dataframe tbody tr th {\n",
       "        vertical-align: top;\n",
       "    }\n",
       "\n",
       "    .dataframe thead th {\n",
       "        text-align: right;\n",
       "    }\n",
       "</style>\n",
       "<table border=\"1\" class=\"dataframe\">\n",
       "  <thead>\n",
       "    <tr style=\"text-align: right;\">\n",
       "      <th></th>\n",
       "      <th>first</th>\n",
       "      <th>last</th>\n",
       "      <th>Email</th>\n",
       "      <th>Salary</th>\n",
       "    </tr>\n",
       "  </thead>\n",
       "  <tbody>\n",
       "    <tr>\n",
       "      <th>0</th>\n",
       "      <td>Ali</td>\n",
       "      <td>Magdy</td>\n",
       "      <td>ali@magdy.com</td>\n",
       "      <td>2000</td>\n",
       "    </tr>\n",
       "    <tr>\n",
       "      <th>1</th>\n",
       "      <td>Sami</td>\n",
       "      <td>Marwan</td>\n",
       "      <td>sami@Marwan.com</td>\n",
       "      <td>1500</td>\n",
       "    </tr>\n",
       "    <tr>\n",
       "      <th>2</th>\n",
       "      <td>Waleed</td>\n",
       "      <td>XXXXX</td>\n",
       "      <td>waleed@mansour.com</td>\n",
       "      <td>900</td>\n",
       "    </tr>\n",
       "    <tr>\n",
       "      <th>3</th>\n",
       "      <td>x</td>\n",
       "      <td>y</td>\n",
       "      <td>x@y.com</td>\n",
       "      <td>2000</td>\n",
       "    </tr>\n",
       "  </tbody>\n",
       "</table>\n",
       "</div>"
      ],
      "text/plain": [
       "    first    last               Email  Salary\n",
       "0     Ali   Magdy       ali@magdy.com    2000\n",
       "1    Sami  Marwan     sami@Marwan.com    1500\n",
       "2  Waleed   XXXXX  waleed@mansour.com     900\n",
       "3       x       y             x@y.com    2000"
      ]
     },
     "execution_count": 30,
     "metadata": {},
     "output_type": "execute_result"
    }
   ],
   "source": [
    "# The best practise is \n",
    "p_df.loc[fltr,['last']] = \"XXXXX\"\n",
    "p_df"
   ]
  },
  {
   "attachments": {},
   "cell_type": "markdown",
   "metadata": {},
   "source": [
    "----"
   ]
  },
  {
   "attachments": {},
   "cell_type": "markdown",
   "metadata": {},
   "source": [
    "### How To do changes on multiple rows of data"
   ]
  },
  {
   "cell_type": "code",
   "execution_count": 37,
   "metadata": {},
   "outputs": [
    {
     "data": {
      "text/html": [
       "<div>\n",
       "<style scoped>\n",
       "    .dataframe tbody tr th:only-of-type {\n",
       "        vertical-align: middle;\n",
       "    }\n",
       "\n",
       "    .dataframe tbody tr th {\n",
       "        vertical-align: top;\n",
       "    }\n",
       "\n",
       "    .dataframe thead th {\n",
       "        text-align: right;\n",
       "    }\n",
       "</style>\n",
       "<table border=\"1\" class=\"dataframe\">\n",
       "  <thead>\n",
       "    <tr style=\"text-align: right;\">\n",
       "      <th></th>\n",
       "      <th>first</th>\n",
       "      <th>last</th>\n",
       "      <th>Email</th>\n",
       "      <th>Salary</th>\n",
       "    </tr>\n",
       "  </thead>\n",
       "  <tbody>\n",
       "    <tr>\n",
       "      <th>0</th>\n",
       "      <td>Ali</td>\n",
       "      <td>Magdy</td>\n",
       "      <td>ALI@MAGDY.COM</td>\n",
       "      <td>2000</td>\n",
       "    </tr>\n",
       "    <tr>\n",
       "      <th>1</th>\n",
       "      <td>Sami</td>\n",
       "      <td>Marwan</td>\n",
       "      <td>SAMI@MARWAN.COM</td>\n",
       "      <td>1500</td>\n",
       "    </tr>\n",
       "    <tr>\n",
       "      <th>2</th>\n",
       "      <td>Waleed</td>\n",
       "      <td>XXXXX</td>\n",
       "      <td>WALEED@MANSOUR.COM</td>\n",
       "      <td>900</td>\n",
       "    </tr>\n",
       "    <tr>\n",
       "      <th>3</th>\n",
       "      <td>x</td>\n",
       "      <td>y</td>\n",
       "      <td>X@Y.COM</td>\n",
       "      <td>2000</td>\n",
       "    </tr>\n",
       "  </tbody>\n",
       "</table>\n",
       "</div>"
      ],
      "text/plain": [
       "    first    last               Email  Salary\n",
       "0     Ali   Magdy       ALI@MAGDY.COM    2000\n",
       "1    Sami  Marwan     SAMI@MARWAN.COM    1500\n",
       "2  Waleed   XXXXX  WALEED@MANSOUR.COM     900\n",
       "3       x       y             X@Y.COM    2000"
      ]
     },
     "execution_count": 37,
     "metadata": {},
     "output_type": "execute_result"
    }
   ],
   "source": [
    "# First I will make all emails characters is upper case by using column\n",
    "\n",
    "p_df['Email'] = p_df['Email'].str.upper()\n",
    "p_df"
   ]
  },
  {
   "attachments": {},
   "cell_type": "markdown",
   "metadata": {},
   "source": [
    "there are some data frame functions that help me to do changes on the data frame :\n",
    "1) apply\n",
    "    - I can use it to grap some info about data or do some changes on it\n",
    "2) map\n",
    "3) applymap\n",
    "4)  replace"
   ]
  },
  {
   "attachments": {},
   "cell_type": "markdown",
   "metadata": {},
   "source": [
    "#### 1)apply"
   ]
  },
  {
   "cell_type": "code",
   "execution_count": 33,
   "metadata": {},
   "outputs": [
    {
     "data": {
      "text/plain": [
       "0    13\n",
       "1    15\n",
       "2    18\n",
       "3     7\n",
       "Name: Email, dtype: int64"
      ]
     },
     "execution_count": 33,
     "metadata": {},
     "output_type": "execute_result"
    }
   ],
   "source": [
    "#  grapping information =>\n",
    "# give me the length of each email on my data set \n",
    "\n",
    "p_df['Email'].apply(len)"
   ]
  },
  {
   "cell_type": "code",
   "execution_count": 39,
   "metadata": {},
   "outputs": [
    {
     "data": {
      "text/html": [
       "<div>\n",
       "<style scoped>\n",
       "    .dataframe tbody tr th:only-of-type {\n",
       "        vertical-align: middle;\n",
       "    }\n",
       "\n",
       "    .dataframe tbody tr th {\n",
       "        vertical-align: top;\n",
       "    }\n",
       "\n",
       "    .dataframe thead th {\n",
       "        text-align: right;\n",
       "    }\n",
       "</style>\n",
       "<table border=\"1\" class=\"dataframe\">\n",
       "  <thead>\n",
       "    <tr style=\"text-align: right;\">\n",
       "      <th></th>\n",
       "      <th>first</th>\n",
       "      <th>last</th>\n",
       "      <th>Email</th>\n",
       "      <th>Salary</th>\n",
       "    </tr>\n",
       "  </thead>\n",
       "  <tbody>\n",
       "    <tr>\n",
       "      <th>0</th>\n",
       "      <td>Ali</td>\n",
       "      <td>Magdy</td>\n",
       "      <td>Ali@magdy.com</td>\n",
       "      <td>2000</td>\n",
       "    </tr>\n",
       "    <tr>\n",
       "      <th>1</th>\n",
       "      <td>Sami</td>\n",
       "      <td>Marwan</td>\n",
       "      <td>Sami@marwan.com</td>\n",
       "      <td>1500</td>\n",
       "    </tr>\n",
       "    <tr>\n",
       "      <th>2</th>\n",
       "      <td>Waleed</td>\n",
       "      <td>XXXXX</td>\n",
       "      <td>Waleed@mansour.com</td>\n",
       "      <td>900</td>\n",
       "    </tr>\n",
       "    <tr>\n",
       "      <th>3</th>\n",
       "      <td>x</td>\n",
       "      <td>y</td>\n",
       "      <td>X@y.com</td>\n",
       "      <td>2000</td>\n",
       "    </tr>\n",
       "  </tbody>\n",
       "</table>\n",
       "</div>"
      ],
      "text/plain": [
       "    first    last               Email  Salary\n",
       "0     Ali   Magdy       Ali@magdy.com    2000\n",
       "1    Sami  Marwan     Sami@marwan.com    1500\n",
       "2  Waleed   XXXXX  Waleed@mansour.com     900\n",
       "3       x       y             X@y.com    2000"
      ]
     },
     "execution_count": 39,
     "metadata": {},
     "output_type": "execute_result"
    }
   ],
   "source": [
    "#  do changes =>\n",
    "# rollback the emails to lower case \n",
    "\n",
    "# I can use lambda function\n",
    "\n",
    "p_df['Email'] = p_df['Email'].apply(lambda x : ( x + \"\" ).capitalize())\n",
    "\n",
    "# or predefined function but without passing its params in call\n",
    "\n",
    "def cap_mail(x):\n",
    "    return ( x + \"\" ).capitalize()\n",
    "p_df['Email'] = p_df['Email'].apply(cap_mail)\n",
    "\n",
    "p_df"
   ]
  }
 ],
 "metadata": {
  "kernelspec": {
   "display_name": "Python 3",
   "language": "python",
   "name": "python3"
  },
  "language_info": {
   "codemirror_mode": {
    "name": "ipython",
    "version": 3
   },
   "file_extension": ".py",
   "mimetype": "text/x-python",
   "name": "python",
   "nbconvert_exporter": "python",
   "pygments_lexer": "ipython3",
   "version": "3.10.6"
  },
  "orig_nbformat": 4
 },
 "nbformat": 4,
 "nbformat_minor": 2
}
